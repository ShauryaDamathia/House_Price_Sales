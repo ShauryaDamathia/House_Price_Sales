{
  "nbformat": 4,
  "nbformat_minor": 0,
  "metadata": {
    "colab": {
      "provenance": [],
      "authorship_tag": "ABX9TyOxI2iou3xRyDTSSIlrFCy7",
      "include_colab_link": true
    },
    "kernelspec": {
      "name": "python3",
      "display_name": "Python 3"
    },
    "language_info": {
      "name": "python"
    }
  },
  "cells": [
    {
      "cell_type": "markdown",
      "metadata": {
        "id": "view-in-github",
        "colab_type": "text"
      },
      "source": [
        "<a href=\"https://colab.research.google.com/github/ShauryaDamathia/House_Price_Sales/blob/main/House_Price_Regression.ipynb\" target=\"_parent\"><img src=\"https://colab.research.google.com/assets/colab-badge.svg\" alt=\"Open In Colab\"/></a>"
      ]
    },
    {
      "cell_type": "markdown",
      "source": [
        "# **Overview**"
      ],
      "metadata": {
        "id": "rGODymnVb6G3"
      }
    },
    {
      "cell_type": "markdown",
      "source": [
        "Participated in the Kaggle House Prices: Advanced Regression Techniques competition and built a robust regression model using XGBoost. Achieved a Root Mean Squared Log Error (RMSLE) of 0.12 on the test set through extensive preprocessing and feature engineering."
      ],
      "metadata": {
        "id": "sgw_schvb8k5"
      }
    },
    {
      "cell_type": "code",
      "execution_count": 2,
      "metadata": {
        "id": "Bu4d0x23to3K"
      },
      "outputs": [],
      "source": [
        "import pandas as pd\n",
        "import numpy as np\n",
        "from sklearn.model_selection import train_test_split\n",
        "from sklearn.preprocessing import StandardScaler\n",
        "import xgboost as xgb\n",
        "\n",
        "train_df = pd.read_csv(\"train.csv\")\n",
        "test_df = pd.read_csv(\"test.csv\")\n",
        "\n",
        "train_labels = train_df['SalePrice']\n",
        "train_ids = train_df['Id']\n",
        "test_ids = test_df['Id']\n",
        "\n",
        "train_df.drop(['SalePrice'], axis=1, inplace=True)\n",
        "\n",
        "full_data = pd.concat([train_df, test_df], axis=0, ignore_index=True)\n",
        "\n",
        "too_many_nulls = ['PoolQC', 'MiscFeature', 'Alley', 'Fence', 'FireplaceQu']\n",
        "full_data.drop(columns=too_many_nulls, inplace=True)\n",
        "\n",
        "for col in full_data.columns:\n",
        "    if full_data[col].dtype == \"object\":\n",
        "        full_data[col] = full_data[col].fillna(\"None\")\n",
        "    else:\n",
        "        full_data[col] = full_data[col].fillna(full_data[col].median())\n",
        "\n",
        "full_data = pd.get_dummies(full_data)\n",
        "\n",
        "X = full_data.iloc[:len(train_labels), :]\n",
        "X_test = full_data.iloc[len(train_labels):, :]\n",
        "y = np.log1p(train_labels)  # log-transform for RMSE metric\n",
        "\n",
        "scaler = StandardScaler()\n",
        "X_scaled = scaler.fit_transform(X)\n",
        "X_test_scaled = scaler.transform(X_test)\n",
        "\n",
        "model = xgb.XGBRegressor(n_estimators=500, learning_rate=0.05, max_depth=3, random_state=42)\n",
        "model.fit(X_scaled, y)\n",
        "\n",
        "y_pred_log = model.predict(X_test_scaled)\n",
        "y_pred = np.expm1(y_pred_log)  # reverse log1p\n",
        "\n",
        "submission = pd.DataFrame({'Id': test_ids, 'SalePrice': y_pred})\n",
        "submission.to_csv(\"house_price_submission.csv\", index=False)"
      ]
    },
    {
      "cell_type": "markdown",
      "source": [
        "## **RMSE Score:**"
      ],
      "metadata": {
        "id": "GTRH45RpcIHY"
      }
    },
    {
      "cell_type": "code",
      "source": [
        "from sklearn.model_selection import cross_val_score\n",
        "from sklearn.metrics import mean_squared_error\n",
        "import numpy as np\n",
        "\n",
        "# Cross-validation to evaluate log-RMSE\n",
        "log_rmse_scores = -cross_val_score(\n",
        "    model,\n",
        "    X_scaled,\n",
        "    y,\n",
        "    scoring=\"neg_root_mean_squared_error\",  # because it's log-transformed target\n",
        "    cv=5\n",
        ")\n",
        "\n",
        "print(\"Average Log RMSE:\", log_rmse_scores.mean())\n",
        "print(\"Standard Deviation:\", log_rmse_scores.std())"
      ],
      "metadata": {
        "colab": {
          "base_uri": "https://localhost:8080/"
        },
        "id": "7HpK_r3MZJgz",
        "outputId": "c60d56a4-8a4d-4453-d85d-67c28d0aa1d4"
      },
      "execution_count": 6,
      "outputs": [
        {
          "output_type": "stream",
          "name": "stdout",
          "text": [
            "Average Log RMSE: 0.12462593222403176\n",
            "Standard Deviation: 0.010659776643383577\n"
          ]
        }
      ]
    }
  ]
}